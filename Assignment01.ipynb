{
 "cells": [
  {
   "cell_type": "markdown",
   "metadata": {},
   "source": [
    "# Assignment 01: Multi-class Classification \n",
    "In this Assignment, you will train a deep model on the CIFAR10 from the scratch using PyTorch."
   ]
  },
  {
   "cell_type": "markdown",
   "metadata": {},
   "source": [
    "### Basic Imports"
   ]
  },
  {
   "cell_type": "code",
   "execution_count": 33,
   "metadata": {},
   "outputs": [],
   "source": [
    "import os\n",
    "import time\n",
    "import os.path as osp\n",
    "\n",
    "import numpy as np\n",
    "import pandas as pd\n",
    "\n",
    "import torch\n",
    "import torch.nn as nn\n",
    "import torch.nn.functional as F\n",
    "from torch.autograd import Variable\n",
    "import torch.optim as optim\n",
    "from torch.utils.data import DataLoader\n",
    "\n",
    "from torchvision import datasets\n",
    "from torchvision import transforms\n",
    "import torchvision\n",
    "\n",
    "import matplotlib.pyplot as plt\n",
    "from PIL import Image\n"
   ]
  },
  {
   "cell_type": "markdown",
   "metadata": {},
   "source": [
    "### Hyperparameters"
   ]
  },
  {
   "cell_type": "code",
   "execution_count": 34,
   "metadata": {},
   "outputs": [],
   "source": [
    "# random seed\n",
    "SEED = 1 \n",
    "NUM_CLASS = 10\n",
    "\n",
    "# Training\n",
    "BATCH_SIZE = 128\n",
    "NUM_EPOCHS = 60\n",
    "EVAL_INTERVAL=1\n",
    "SAVE_DIR = './log'\n",
    "\n",
    "# Optimizer\n",
    "LEARNING_RATE = 1e-1\n",
    "# LEARNING_RATE = 1e-2\n",
    "# LEARNING_RATE = 1e-3\n",
    "MOMENTUM = 0.9\n",
    "STEP=5\n",
    "GAMMA=0.5\n"
   ]
  },
  {
   "cell_type": "markdown",
   "metadata": {},
   "source": [
    "### Device"
   ]
  },
  {
   "cell_type": "code",
   "execution_count": 35,
   "metadata": {},
   "outputs": [],
   "source": [
    "device = torch.device(\"cuda:0\" if torch.cuda.is_available() else \"cpu\")"
   ]
  },
  {
   "cell_type": "markdown",
   "metadata": {},
   "source": [
    "\n",
    "### Dataset\n"
   ]
  },
  {
   "cell_type": "code",
   "execution_count": 36,
   "metadata": {},
   "outputs": [
    {
     "name": "stdout",
     "output_type": "stream",
     "text": [
      "Files already downloaded and verified\n",
      "Files already downloaded and verified\n"
     ]
    }
   ],
   "source": [
    "# cifar10 transform\n",
    "transform_cifar10_train = transforms.Compose([\n",
    "    transforms.RandomCrop(32, padding=4),\n",
    "    transforms.RandomHorizontalFlip(),\n",
    "    transforms.ToTensor(),\n",
    "    transforms.Normalize((0.4914, 0.4822, 0.4465), (0.2023, 0.1994, 0.2010)),\n",
    "])\n",
    "\n",
    "transform_cifar10_test = transforms.Compose([\n",
    "    transforms.ToTensor(),\n",
    "    transforms.Normalize((0.4914, 0.4822, 0.4465), (0.2023, 0.1994, 0.2010)),\n",
    "])\n",
    "\n",
    "train_set = torchvision.datasets.CIFAR10(root='../data', train=True,\n",
    "                                        download=True, transform=transform_cifar10_train)\n",
    "train_dataloader = torch.utils.data.DataLoader(train_set, batch_size=BATCH_SIZE,\n",
    "                                          shuffle=True, num_workers=2)\n",
    "\n",
    "test_set = torchvision.datasets.CIFAR10(root='../data', train=False,\n",
    "                                       download=True, transform=transform_cifar10_test)\n",
    "test_dataloader = torch.utils.data.DataLoader(test_set, batch_size=BATCH_SIZE,\n",
    "                                         shuffle=False, num_workers=2)\n",
    "\n",
    "class_names = ['airplane', 'automobile', 'bird', 'cat', 'deer', 'dog', 'frog', 'horse', 'ship', 'truck']\n"
   ]
  },
  {
   "cell_type": "markdown",
   "metadata": {},
   "source": [
    "### Model"
   ]
  },
  {
   "cell_type": "code",
   "execution_count": 37,
   "metadata": {},
   "outputs": [],
   "source": [
    "class ConvNet(nn.Module):\n",
    "    def __init__(self):\n",
    "        super(ConvNet, self).__init__()\n",
    "        self.conv1 = nn.Conv2d(3, 4, 3)  \n",
    "        self.pool = nn.MaxPool2d(2, 2)\n",
    "        self.conv2 = nn.Conv2d(4, 8, 3)  \n",
    "        self.fc1 = nn.Linear(8 * 6 * 6, 32)\n",
    "        self.fc2 = nn.Linear(32, 10)\n",
    "\n",
    "    def forward(self, x):\n",
    "        x = self.pool(torch.relu(self.conv1(x)))\n",
    "        x = self.pool(torch.relu(self.conv2(x)))\n",
    "        x = x.view(-1, 8 * 6 * 6)\n",
    "        x = torch.relu(self.fc1(x))\n",
    "        x = self.fc2(x)\n",
    "        return x"
   ]
  },
  {
   "cell_type": "code",
   "execution_count": 38,
   "metadata": {},
   "outputs": [
    {
     "data": {
      "text/plain": [
       "ConvNet(\n",
       "  (conv1): Conv2d(3, 4, kernel_size=(3, 3), stride=(1, 1))\n",
       "  (pool): MaxPool2d(kernel_size=2, stride=2, padding=0, dilation=1, ceil_mode=False)\n",
       "  (conv2): Conv2d(4, 8, kernel_size=(3, 3), stride=(1, 1))\n",
       "  (fc1): Linear(in_features=288, out_features=32, bias=True)\n",
       "  (fc2): Linear(in_features=32, out_features=10, bias=True)\n",
       ")"
      ]
     },
     "execution_count": 38,
     "metadata": {},
     "output_type": "execute_result"
    }
   ],
   "source": [
    "model = ConvNet()\n",
    "model.to(device)"
   ]
  },
  {
   "cell_type": "markdown",
   "metadata": {},
   "source": [
    "### Optimizer"
   ]
  },
  {
   "cell_type": "code",
   "execution_count": 39,
   "metadata": {},
   "outputs": [],
   "source": [
    "optimizer = optim.SGD(model.parameters(), lr=LEARNING_RATE, momentum=MOMENTUM)\n",
    "\n",
    "scheduler = torch.optim.lr_scheduler.StepLR(optimizer, step_size=STEP, gamma=GAMMA)"
   ]
  },
  {
   "cell_type": "markdown",
   "metadata": {},
   "source": [
    "### Task 1: per batch training/testing\n",
    "---\n",
    "\n",
    "Please denfine two function named ``train_batch`` and ``test_batch``. These functions are essential for training and evaluating machine learning models using batched data from dataloaders.\n",
    "\n",
    "**To do**: \n",
    "1. Define the loss function i.e [nn.CrossEntropyLoss()](https://pytorch.org/docs/stable/generated/torch.nn.CrossEntropyLoss.html).\n",
    "2. Take the image as the input and generate the output using the pre-defined SimpleNet.\n",
    "3. Calculate the loss between the output and the corresponding label using the loss function."
   ]
  },
  {
   "cell_type": "code",
   "execution_count": 40,
   "metadata": {},
   "outputs": [],
   "source": [
    "class FocalLoss(nn.Module):\n",
    "    r\"\"\"\n",
    "        This criterion is a implemenation of Focal Loss, which is proposed in \n",
    "        Focal Loss for Dense Object Detection.\n",
    "\n",
    "            Loss(x, class) = - \\alpha (1-softmax(x)[class])^gamma \\log(softmax(x)[class])\n",
    "\n",
    "        The losses are averaged across observations for each minibatch.\n",
    "\n",
    "        Args:\n",
    "            alpha(1D Tensor, Variable) : the scalar factor for this criterion\n",
    "            gamma(float, double) : gamma > 0; reduces the relative loss for well-classiﬁed examples (p > .5), \n",
    "                                   putting more focus on hard, misclassiﬁed examples\n",
    "            size_average(bool): By default, the losses are averaged over observations for each minibatch.\n",
    "                                However, if the field size_average is set to False, the losses are\n",
    "                                instead summed for each minibatch.\n",
    "\n",
    "\n",
    "    \"\"\"\n",
    "    def __init__(self, class_num, alpha=None, gamma=2, size_average=True):\n",
    "        super(FocalLoss, self).__init__()\n",
    "        if alpha is None:\n",
    "            self.alpha = Variable(torch.ones(class_num, 1))\n",
    "        else:\n",
    "            if isinstance(alpha, Variable):\n",
    "                self.alpha = alpha\n",
    "            else:\n",
    "                self.alpha = Variable(alpha)\n",
    "        self.gamma = gamma\n",
    "        self.class_num = class_num\n",
    "        self.size_average = size_average\n",
    "\n",
    "    def forward(self, inputs, targets):\n",
    "        N = inputs.size(0)\n",
    "        C = inputs.size(1)\n",
    "        P = F.softmax(inputs)\n",
    "\n",
    "        class_mask = inputs.data.new(N, C).fill_(0)\n",
    "        class_mask = Variable(class_mask)\n",
    "        ids = targets.view(-1, 1)\n",
    "        class_mask.scatter_(1, ids.data, 1.)\n",
    "        #print(class_mask)\n",
    "\n",
    "\n",
    "        if inputs.is_cuda and not self.alpha.is_cuda:\n",
    "            self.alpha = self.alpha.cuda()\n",
    "        alpha = self.alpha[ids.data.view(-1)]\n",
    "\n",
    "        probs = (P*class_mask).sum(1).view(-1,1)\n",
    "\n",
    "        log_p = probs.log()\n",
    "        #print('probs size= {}'.format(probs.size()))\n",
    "        #print(probs)\n",
    "\n",
    "        batch_loss = -alpha*(torch.pow((1-probs), self.gamma))*log_p \n",
    "        #print('-----bacth_loss------')\n",
    "        #print(batch_loss)\n",
    "\n",
    "\n",
    "        if self.size_average:\n",
    "            loss = batch_loss.mean()\n",
    "        else:\n",
    "            loss = batch_loss.sum()\n",
    "        return loss"
   ]
  },
  {
   "cell_type": "code",
   "execution_count": 41,
   "metadata": {},
   "outputs": [],
   "source": [
    "##################### Write your answer here ##################\n",
    "# Define the loss function\n",
    "# criterion = nn.CrossEntropyLoss()\n",
    "# criterion=nn.L1Loss()\n",
    "# criterion=FocalLoss()\n",
    "criterion=FocalLoss(gamma=2,class_num=10)\n",
    "###############################################################"
   ]
  },
  {
   "cell_type": "code",
   "execution_count": 42,
   "metadata": {},
   "outputs": [],
   "source": [
    "def train_batch(model, image, target):\n",
    "    \"\"\"\n",
    "    Perform one training batch iteration.\n",
    "\n",
    "    Args:\n",
    "        model (torch.nn.Module): The machine learning model to train.\n",
    "        image (torch.Tensor): Batch of input data (images).\n",
    "        target (torch.Tensor): Batch of target labels.\n",
    "\n",
    "    Returns:\n",
    "        torch.Tensor: Model output (predictions) for the batch.\n",
    "        torch.Tensor: Loss value calculated by the defined loss function loss_fn().\n",
    "    \"\"\"\n",
    "    \n",
    "    ##################### Write your answer here ##################\n",
    "    output = model(image)\n",
    "    # loss = criterion(output,target)\n",
    "    # loss = criterion(F.softmax(output, dim=1),F.one_hot(target,num_classes=10))\n",
    "    loss = criterion(output,target)\n",
    "    ###############################################################\n",
    "\n",
    "    return output, loss"
   ]
  },
  {
   "cell_type": "code",
   "execution_count": 43,
   "metadata": {},
   "outputs": [],
   "source": [
    "\n",
    "def test_batch(model, image, target):\n",
    "    \"\"\"\n",
    "    Perform one testing batch iteration.\n",
    "\n",
    "    Args:\n",
    "        model (torch.nn.Module): The machine learning model to evaluate.\n",
    "        image (torch.Tensor): Batch of input data (images).\n",
    "        target (torch.Tensor): Batch of target labels.\n",
    "\n",
    "    Returns:\n",
    "        torch.Tensor: Model output (predictions) for the batch.\n",
    "        torch.Tensor: Loss value calculated for the batch.\n",
    "    \"\"\"\n",
    "\n",
    "    ##################### Write your answer here ##################\n",
    "    output = model(image)\n",
    "    # loss = criterion(output,target)\n",
    "    # loss = criterion(F.softmax(output, dim=1),F.one_hot(target,num_classes=10))\n",
    "    loss = criterion(output,target)\n",
    "    ###############################################################\n",
    "\n",
    "    return output, loss"
   ]
  },
  {
   "cell_type": "markdown",
   "metadata": {},
   "source": [
    "### Model Training"
   ]
  },
  {
   "cell_type": "code",
   "execution_count": 44,
   "metadata": {},
   "outputs": [
    {
     "name": "stderr",
     "output_type": "stream",
     "text": [
      "/tmp/ipykernel_296151/2662275098.py:36: UserWarning: Implicit dimension choice for softmax has been deprecated. Change the call to include dim=X as an argument.\n",
      "  P = F.softmax(inputs)\n"
     ]
    },
    {
     "name": "stdout",
     "output_type": "stream",
     "text": [
      "Epoch: 1/60 Train Loss: 1.4580 Acc: 0.2694\n",
      "Begin test......\n",
      "Test Loss: 1.2696 Acc: 0.3403\n",
      "Epoch: 2/60 Train Loss: 1.3160 Acc: 0.3208\n",
      "Begin test......\n",
      "Test Loss: 1.1778 Acc: 0.3739\n",
      "Epoch: 3/60 Train Loss: 1.3236 Acc: 0.3152\n",
      "Begin test......\n",
      "Test Loss: 1.1494 Acc: 0.3865\n",
      "Epoch: 4/60 Train Loss: 1.2507 Acc: 0.3442\n",
      "Begin test......\n",
      "Test Loss: 1.1376 Acc: 0.3942\n",
      "Epoch: 5/60 Train Loss: 1.2284 Acc: 0.3536\n",
      "Begin test......\n",
      "Test Loss: 1.2638 Acc: 0.3491\n",
      "Epoch: 6/60 Train Loss: 1.1346 Acc: 0.3912\n",
      "Begin test......\n",
      "Test Loss: 1.0268 Acc: 0.4390\n",
      "Epoch: 7/60 Train Loss: 1.0934 Acc: 0.4082\n",
      "Begin test......\n",
      "Test Loss: 1.0122 Acc: 0.4446\n",
      "Epoch: 8/60 Train Loss: 1.0883 Acc: 0.4156\n",
      "Begin test......\n",
      "Test Loss: 0.9844 Acc: 0.4568\n",
      "Epoch: 9/60 Train Loss: 1.0721 Acc: 0.4204\n",
      "Begin test......\n",
      "Test Loss: 0.9943 Acc: 0.4469\n",
      "Epoch: 10/60 Train Loss: 1.0619 Acc: 0.4272\n",
      "Begin test......\n",
      "Test Loss: 1.0594 Acc: 0.4359\n",
      "Epoch: 11/60 Train Loss: 0.9841 Acc: 0.4618\n",
      "Begin test......\n",
      "Test Loss: 0.8783 Acc: 0.5035\n",
      "Epoch: 12/60 Train Loss: 0.9736 Acc: 0.4642\n",
      "Begin test......\n",
      "Test Loss: 0.8805 Acc: 0.5152\n",
      "Epoch: 13/60 Train Loss: 0.9721 Acc: 0.4672\n",
      "Begin test......\n",
      "Test Loss: 0.8666 Acc: 0.5125\n",
      "Epoch: 14/60 Train Loss: 0.9590 Acc: 0.4760\n",
      "Begin test......\n",
      "Test Loss: 0.8501 Acc: 0.5281\n",
      "Epoch: 15/60 Train Loss: 0.9548 Acc: 0.4755\n",
      "Begin test......\n",
      "Test Loss: 0.8810 Acc: 0.5069\n",
      "Epoch: 16/60 Train Loss: 0.9201 Acc: 0.4943\n",
      "Begin test......\n",
      "Test Loss: 0.8183 Acc: 0.5399\n",
      "Epoch: 17/60 Train Loss: 0.9094 Acc: 0.4981\n",
      "Begin test......\n",
      "Test Loss: 0.8747 Acc: 0.5142\n",
      "Epoch: 18/60 Train Loss: 0.9052 Acc: 0.4979\n",
      "Begin test......\n",
      "Test Loss: 0.8307 Acc: 0.5301\n",
      "Epoch: 19/60 Train Loss: 0.9007 Acc: 0.5014\n",
      "Begin test......\n",
      "Test Loss: 0.8350 Acc: 0.5339\n",
      "Epoch: 20/60 Train Loss: 0.8910 Acc: 0.5049\n",
      "Begin test......\n",
      "Test Loss: 0.8055 Acc: 0.5458\n",
      "Epoch: 21/60 Train Loss: 0.8746 Acc: 0.5138\n",
      "Begin test......\n",
      "Test Loss: 0.7907 Acc: 0.5531\n",
      "Epoch: 22/60 Train Loss: 0.8708 Acc: 0.5158\n",
      "Begin test......\n",
      "Test Loss: 0.7866 Acc: 0.5575\n",
      "Epoch: 23/60 Train Loss: 0.8701 Acc: 0.5135\n",
      "Begin test......\n",
      "Test Loss: 0.7814 Acc: 0.5522\n",
      "Epoch: 24/60 Train Loss: 0.8647 Acc: 0.5157\n",
      "Begin test......\n",
      "Test Loss: 0.7760 Acc: 0.5609\n",
      "Epoch: 25/60 Train Loss: 0.8648 Acc: 0.5187\n",
      "Begin test......\n",
      "Test Loss: 0.7808 Acc: 0.5591\n",
      "Epoch: 26/60 Train Loss: 0.8533 Acc: 0.5241\n",
      "Begin test......\n",
      "Test Loss: 0.7598 Acc: 0.5701\n",
      "Epoch: 27/60 Train Loss: 0.8452 Acc: 0.5279\n",
      "Begin test......\n",
      "Test Loss: 0.7588 Acc: 0.5697\n",
      "Epoch: 28/60 Train Loss: 0.8455 Acc: 0.5270\n",
      "Begin test......\n",
      "Test Loss: 0.7568 Acc: 0.5699\n",
      "Epoch: 29/60 Train Loss: 0.8418 Acc: 0.5270\n",
      "Begin test......\n",
      "Test Loss: 0.7530 Acc: 0.5748\n",
      "Epoch: 30/60 Train Loss: 0.8408 Acc: 0.5289\n",
      "Begin test......\n",
      "Test Loss: 0.7572 Acc: 0.5710\n",
      "Epoch: 31/60 Train Loss: 0.8350 Acc: 0.5314\n",
      "Begin test......\n",
      "Test Loss: 0.7530 Acc: 0.5717\n",
      "Epoch: 32/60 Train Loss: 0.8333 Acc: 0.5341\n",
      "Begin test......\n",
      "Test Loss: 0.7450 Acc: 0.5772\n",
      "Epoch: 33/60 Train Loss: 0.8345 Acc: 0.5316\n",
      "Begin test......\n",
      "Test Loss: 0.7554 Acc: 0.5701\n",
      "Epoch: 34/60 Train Loss: 0.8309 Acc: 0.5349\n",
      "Begin test......\n",
      "Test Loss: 0.7459 Acc: 0.5746\n",
      "Epoch: 35/60 Train Loss: 0.8327 Acc: 0.5338\n",
      "Begin test......\n",
      "Test Loss: 0.7501 Acc: 0.5731\n",
      "Epoch: 36/60 Train Loss: 0.8324 Acc: 0.5337\n",
      "Begin test......\n",
      "Test Loss: 0.7476 Acc: 0.5747\n",
      "Epoch: 37/60 Train Loss: 0.8264 Acc: 0.5350\n",
      "Begin test......\n",
      "Test Loss: 0.7448 Acc: 0.5764\n",
      "Epoch: 38/60 Train Loss: 0.8288 Acc: 0.5341\n",
      "Begin test......\n",
      "Test Loss: 0.7428 Acc: 0.5784\n",
      "Epoch: 39/60 Train Loss: 0.8290 Acc: 0.5331\n",
      "Begin test......\n",
      "Test Loss: 0.7437 Acc: 0.5754\n",
      "Epoch: 40/60 Train Loss: 0.8279 Acc: 0.5336\n",
      "Begin test......\n",
      "Test Loss: 0.7444 Acc: 0.5769\n",
      "Epoch: 41/60 Train Loss: 0.8234 Acc: 0.5374\n",
      "Begin test......\n",
      "Test Loss: 0.7388 Acc: 0.5803\n",
      "Epoch: 42/60 Train Loss: 0.8276 Acc: 0.5355\n",
      "Begin test......\n",
      "Test Loss: 0.7401 Acc: 0.5787\n",
      "Epoch: 43/60 Train Loss: 0.8211 Acc: 0.5383\n",
      "Begin test......\n",
      "Test Loss: 0.7405 Acc: 0.5788\n",
      "Epoch: 44/60 Train Loss: 0.8207 Acc: 0.5378\n",
      "Begin test......\n",
      "Test Loss: 0.7424 Acc: 0.5777\n",
      "Epoch: 45/60 Train Loss: 0.8247 Acc: 0.5358\n",
      "Begin test......\n",
      "Test Loss: 0.7408 Acc: 0.5762\n",
      "Epoch: 46/60 Train Loss: 0.8247 Acc: 0.5347\n",
      "Begin test......\n",
      "Test Loss: 0.7410 Acc: 0.5776\n",
      "Epoch: 47/60 Train Loss: 0.8219 Acc: 0.5393\n",
      "Begin test......\n",
      "Test Loss: 0.7392 Acc: 0.5803\n",
      "Epoch: 48/60 Train Loss: 0.8249 Acc: 0.5390\n",
      "Begin test......\n",
      "Test Loss: 0.7408 Acc: 0.5773\n",
      "Epoch: 49/60 Train Loss: 0.8223 Acc: 0.5377\n",
      "Begin test......\n",
      "Test Loss: 0.7385 Acc: 0.5797\n",
      "Epoch: 50/60 Train Loss: 0.8209 Acc: 0.5387\n",
      "Begin test......\n",
      "Test Loss: 0.7382 Acc: 0.5801\n",
      "Epoch: 51/60 Train Loss: 0.8204 Acc: 0.5383\n",
      "Begin test......\n",
      "Test Loss: 0.7393 Acc: 0.5785\n",
      "Epoch: 52/60 Train Loss: 0.8192 Acc: 0.5398\n",
      "Begin test......\n",
      "Test Loss: 0.7401 Acc: 0.5783\n",
      "Epoch: 53/60 Train Loss: 0.8183 Acc: 0.5400\n",
      "Begin test......\n",
      "Test Loss: 0.7396 Acc: 0.5783\n",
      "Epoch: 54/60 Train Loss: 0.8217 Acc: 0.5409\n",
      "Begin test......\n",
      "Test Loss: 0.7392 Acc: 0.5782\n",
      "Epoch: 55/60 Train Loss: 0.8212 Acc: 0.5372\n",
      "Begin test......\n",
      "Test Loss: 0.7395 Acc: 0.5794\n",
      "Epoch: 56/60 Train Loss: 0.8223 Acc: 0.5369\n",
      "Begin test......\n",
      "Test Loss: 0.7395 Acc: 0.5787\n",
      "Epoch: 57/60 Train Loss: 0.8203 Acc: 0.5401\n",
      "Begin test......\n",
      "Test Loss: 0.7389 Acc: 0.5788\n",
      "Epoch: 58/60 Train Loss: 0.8198 Acc: 0.5355\n",
      "Begin test......\n",
      "Test Loss: 0.7390 Acc: 0.5793\n",
      "Epoch: 59/60 Train Loss: 0.8203 Acc: 0.5403\n",
      "Begin test......\n",
      "Test Loss: 0.7390 Acc: 0.5795\n",
      "Epoch: 60/60 Train Loss: 0.8212 Acc: 0.5396\n",
      "Begin test......\n",
      "Test Loss: 0.7392 Acc: 0.5793\n"
     ]
    }
   ],
   "source": [
    "training_loss = []\n",
    "training_acc = []\n",
    "testing_loss = []\n",
    "testing_acc = []\n",
    "lrs=[]\n",
    "\n",
    "for epoch in range(NUM_EPOCHS):\n",
    "    model.train()\n",
    "    torch.cuda.empty_cache()\n",
    "\n",
    "    ##########################\n",
    "    ### Training\n",
    "    ##########################\n",
    "\n",
    "    running_cls_loss = 0.0\n",
    "    running_cls_corrects = 0\n",
    "\n",
    "    for batch_idx, (image, target) in enumerate(train_dataloader):\n",
    "\n",
    "        image = image.to(device)\n",
    "        target = target.to(device)\n",
    "\n",
    "        # train model\n",
    "        outputs, loss = train_batch(model, image, target)\n",
    "        _, preds = torch.max(outputs, 1)\n",
    "\n",
    "        \n",
    "        loss_data = loss.data.item()\n",
    "        if np.isnan(loss_data):\n",
    "            raise ValueError('loss is nan while training')\n",
    "        running_cls_loss += loss.item()\n",
    "        running_cls_corrects += torch.sum(preds == target.data)\n",
    "\n",
    "        loss.backward()\n",
    "        optimizer.step()\n",
    "        optimizer.zero_grad()\n",
    "\n",
    "    # epoch_loss = running_cls_loss / len(train_set)\n",
    "    epoch_loss = running_cls_loss / len(train_dataloader)\n",
    "    epoch_acc = running_cls_corrects.double() / len(train_set)\n",
    "\n",
    "    print(f'Epoch: {epoch+1}/{NUM_EPOCHS} Train Loss: {epoch_loss:.4f} Acc: {epoch_acc:.4f}')\n",
    "\n",
    "    training_loss.append(epoch_loss)\n",
    "    training_acc.append(epoch_acc.cpu().detach().numpy())\n",
    "\n",
    "    # change learning rate\n",
    "    scheduler.step()\n",
    "\n",
    "\n",
    "    ##########################\n",
    "    ### Testing\n",
    "    ##########################\n",
    "    # # eval model during training or in the last epoch\n",
    "    if (epoch + 1) % EVAL_INTERVAL == 0 or (epoch +1) == NUM_EPOCHS:\n",
    "        print('Begin test......')\n",
    "        model.eval()\n",
    "    \n",
    "        val_loss = 0.0\n",
    "        val_corrects = 0\n",
    "\n",
    "        for batch_idx, (image, target) in enumerate(test_dataloader):\n",
    "\n",
    "            image = image.to(device)\n",
    "            target = target.to(device)\n",
    "\n",
    "            # test model\n",
    "            outputs, loss = test_batch(model, image, target)\n",
    "            _, preds = torch.max(outputs, 1)\n",
    "            \n",
    "            val_loss += loss.item()\n",
    "            val_corrects += torch.sum(preds == target.data)\n",
    "\n",
    "        val_loss = val_loss / len(test_dataloader)\n",
    "        val_acc = val_corrects.double() / len(test_set)\n",
    "        print(f'Test Loss: {val_loss:.4f} Acc: {val_acc:.4f}')\n",
    "        testing_loss.append(val_loss)\n",
    "        testing_acc.append(val_acc.cpu().detach().numpy())\n",
    "\n",
    "        # save the model in last epoch\n",
    "        if (epoch +1) == NUM_EPOCHS:\n",
    "            \n",
    "            state = {\n",
    "            'state_dict': model.state_dict(),\n",
    "            'acc': epoch_acc,\n",
    "            'epoch': (epoch+1),\n",
    "            }\n",
    "\n",
    "            # check the dir\n",
    "            if not os.path.exists(SAVE_DIR):\n",
    "                os.makedirs(SAVE_DIR)\n",
    "\n",
    "            # save the state\n",
    "            torch.save(state, osp.join(SAVE_DIR, 'checkpoint_%s.pth' % (str(epoch+1))))\n",
    "\n",
    "    for param_group in optimizer.param_groups:\n",
    "        lr = param_group['lr']\n",
    "    lrs.append(lr)\n"
   ]
  },
  {
   "cell_type": "code",
   "execution_count": 45,
   "metadata": {},
   "outputs": [
    {
     "data": {
      "image/png": "[encoded data removed]",
      "text/plain": [
       "<Figure size 1200x400 with 3 Axes>"
      ]
     },
     "metadata": {},
     "output_type": "display_data"
    }
   ],
   "source": [
    "import matplotlib.pyplot as plt\n",
    "\n",
    "plt.figure(figsize=(12, 4))\n",
    "plt.subplot(131)\n",
    "plt.plot(range(NUM_EPOCHS), training_loss, label='Training Loss', color='blue')\n",
    "plt.plot(range(NUM_EPOCHS), testing_loss, label='Testing Loss', color='red')\n",
    "plt.xlabel('Epoch')\n",
    "plt.ylabel('Loss')\n",
    "plt.legend()\n",
    "plt.title('Training and Testing Loss')\n",
    "\n",
    "# 绘制训练与测试的准确度随epoch的变化\n",
    "plt.subplot(132)\n",
    "plt.plot(range(NUM_EPOCHS), training_acc, label='Training Accuracy', color='blue')\n",
    "plt.plot(range(NUM_EPOCHS), testing_acc, label='Testing Accuracy', color='red')\n",
    "plt.xlabel('Epoch')\n",
    "plt.ylabel('Accuracy')\n",
    "plt.legend()\n",
    "plt.title('Training and Testing Accuracy')\n",
    "\n",
    "# 绘制学习率随epoch的变化\n",
    "plt.subplot(133)\n",
    "plt.plot(range(NUM_EPOCHS), lrs, label='Learning Rate', color='green')\n",
    "plt.xlabel('Epoch')\n",
    "plt.ylabel('Learning Rate')\n",
    "plt.legend()\n",
    "plt.title('Learning Rate')\n",
    "\n",
    "plt.tight_layout()\n",
    "plt.show()"
   ]
  },
  {
   "cell_type": "markdown",
   "metadata": {},
   "source": [
    "### Task 2: Instance inference\n",
    "---\n",
    "The task is to visualizes an image along with model prediction and class probabilities.\n",
    "\n",
    "**To do**: \n",
    "1. Calculate the prediction and the probabilities for each class.\n",
    "         "
   ]
  },
  {
   "cell_type": "code",
   "execution_count": 46,
   "metadata": {},
   "outputs": [],
   "source": [
    "inputs, classes = next(iter(test_dataloader))\n",
    "input = inputs[0]"
   ]
  },
  {
   "cell_type": "code",
   "execution_count": 47,
   "metadata": {},
   "outputs": [],
   "source": [
    "##################### Write your answer here ##################\n",
    "# input: image, model\n",
    "# outputs: predict_label, probabilities\n",
    "# predict_label is the index (or label) of the class with the highest probability from the probabilities.\n",
    "###############################################################\n",
    "# input=input.to(device)\n",
    "m=nn.Softmax(dim=1)\n",
    "probabilities = torch.squeeze(m(model(input.to(device))))\n",
    "predict_label = torch.argmax(probabilities)"
   ]
  },
  {
   "cell_type": "code",
   "execution_count": 48,
   "metadata": {},
   "outputs": [
    {
     "name": "stderr",
     "output_type": "stream",
     "text": [
      "Clipping input data to the valid range for imshow with RGB data ([0..1] for floats or [0..255] for integers).\n"
     ]
    },
    {
     "data": {
      "image/png": "[encoded data removed]",
      "text/plain": [
       "<Figure size 640x480 with 1 Axes>"
      ]
     },
     "metadata": {},
     "output_type": "display_data"
    },
    {
     "name": "stdout",
     "output_type": "stream",
     "text": [
      "Print probabilities for each class:\n",
      "airplane: 0.0239\n",
      "automobile: 0.1688\n",
      "bird: 0.0280\n",
      "cat: 0.2413\n",
      "deer: 0.0432\n",
      "dog: 0.0581\n",
      "frog: 0.1865\n",
      "horse: 0.0362\n",
      "ship: 0.1277\n",
      "truck: 0.0864\n"
     ]
    },
    {
     "ename": "",
     "evalue": "",
     "output_type": "error",
     "traceback": [
      "\u001b[1;31mThe Kernel crashed while executing code in the the current cell or a previous cell. Please review the code in the cell(s) to identify a possible cause of the failure. Click <a href='https://aka.ms/vscodeJupyterKernelCrash'>here</a> for more info. View Jupyter <a href='command:jupyter.viewOutput'>log</a> for further details."
     ]
    }
   ],
   "source": [
    "predicted_class = class_names[predict_label.item()]\n",
    "predicted_probability = probabilities[predict_label].item()\n",
    "image = input.cpu().numpy().transpose((1, 2, 0))\n",
    "plt.imshow(image)\n",
    "plt.text(17, 30, f'Predicted Class: {predicted_class}\\nProbability: {predicted_probability:.2f}', \n",
    "            color='white', backgroundcolor='black', fontsize=8)\n",
    "plt.show()\n",
    "\n",
    "# Print probabilities for each class\n",
    "print('Print probabilities for each class:')\n",
    "for i in range(len(class_names)):\n",
    "    print(f'{class_names[i]}: {probabilities[i].item():.4f}')"
   ]
  }
 ],
 "metadata": {
  "kernelspec": {
   "display_name": "Python 3.8.10 64-bit",
   "language": "python",
   "name": "python3"
  },
  "language_info": {
   "codemirror_mode": {
    "name": "ipython",
    "version": 3
   },
   "file_extension": ".py",
   "mimetype": "text/x-python",
   "name": "python",
   "nbconvert_exporter": "python",
   "pygments_lexer": "ipython3",
   "version": "3.8.10"
  },
  "vscode": {
   "interpreter": {
    "hash": "e7370f93d1d0cde622a1f8e1c04877d8463912d04d973331ad4851f04de6915a"
   }
  }
 },
 "nbformat": 4,
 "nbformat_minor": 4
}
